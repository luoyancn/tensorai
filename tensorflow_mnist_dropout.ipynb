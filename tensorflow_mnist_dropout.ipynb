{
  "nbformat": 4,
  "nbformat_minor": 0,
  "metadata": {
    "colab": {
      "name": "tensorflow_mnist.ipynb",
      "provenance": [],
      "collapsed_sections": []
    },
    "kernelspec": {
      "name": "python3",
      "display_name": "Python 3"
    },
    "accelerator": "GPU"
  },
  "cells": [
    {
      "cell_type": "code",
      "metadata": {
        "id": "WTNXOcw6EOsH",
        "colab_type": "code",
        "colab": {
          "base_uri": "https://localhost:8080/",
          "height": 64
        },
        "outputId": "951eff3d-05fd-49ff-878c-7300e5bff61e"
      },
      "source": [
        "import tensorflow as tf\n",
        "import numpy as np\n",
        "\n",
        "from tensorflow.examples.tutorials.mnist import input_data"
      ],
      "execution_count": 1,
      "outputs": [
        {
          "output_type": "display_data",
          "data": {
            "text/html": [
              "<p style=\"color: red;\">\n",
              "The default version of TensorFlow in Colab will soon switch to TensorFlow 2.x.<br>\n",
              "We recommend you <a href=\"https://www.tensorflow.org/guide/migrate\" target=\"_blank\">upgrade</a> now \n",
              "or ensure your notebook will continue to use TensorFlow 1.x via the <code>%tensorflow_version 1.x</code> magic:\n",
              "<a href=\"https://colab.research.google.com/notebooks/tensorflow_version.ipynb\" target=\"_blank\">more info</a>.</p>\n"
            ],
            "text/plain": [
              "<IPython.core.display.HTML object>"
            ]
          },
          "metadata": {
            "tags": []
          }
        }
      ]
    },
    {
      "cell_type": "code",
      "metadata": {
        "id": "Adac0OfZFeZf",
        "colab_type": "code",
        "colab": {
          "base_uri": "https://localhost:8080/",
          "height": 430
        },
        "outputId": "fbd436eb-fd0e-45ad-f159-595b3749c5d9"
      },
      "source": [
        "mnist = input_data.read_data_sets('MNIST_data', one_hot=True)"
      ],
      "execution_count": 2,
      "outputs": [
        {
          "output_type": "stream",
          "text": [
            "WARNING:tensorflow:From <ipython-input-2-71e12f4bac70>:1: read_data_sets (from tensorflow.contrib.learn.python.learn.datasets.mnist) is deprecated and will be removed in a future version.\n",
            "Instructions for updating:\n",
            "Please use alternatives such as official/mnist/dataset.py from tensorflow/models.\n",
            "WARNING:tensorflow:From /usr/local/lib/python3.6/dist-packages/tensorflow_core/contrib/learn/python/learn/datasets/mnist.py:260: maybe_download (from tensorflow.contrib.learn.python.learn.datasets.base) is deprecated and will be removed in a future version.\n",
            "Instructions for updating:\n",
            "Please write your own downloading logic.\n",
            "WARNING:tensorflow:From /usr/local/lib/python3.6/dist-packages/tensorflow_core/contrib/learn/python/learn/datasets/mnist.py:262: extract_images (from tensorflow.contrib.learn.python.learn.datasets.mnist) is deprecated and will be removed in a future version.\n",
            "Instructions for updating:\n",
            "Please use tf.data to implement this functionality.\n",
            "Extracting MNIST_data/train-images-idx3-ubyte.gz\n",
            "WARNING:tensorflow:From /usr/local/lib/python3.6/dist-packages/tensorflow_core/contrib/learn/python/learn/datasets/mnist.py:267: extract_labels (from tensorflow.contrib.learn.python.learn.datasets.mnist) is deprecated and will be removed in a future version.\n",
            "Instructions for updating:\n",
            "Please use tf.data to implement this functionality.\n",
            "Extracting MNIST_data/train-labels-idx1-ubyte.gz\n",
            "WARNING:tensorflow:From /usr/local/lib/python3.6/dist-packages/tensorflow_core/contrib/learn/python/learn/datasets/mnist.py:110: dense_to_one_hot (from tensorflow.contrib.learn.python.learn.datasets.mnist) is deprecated and will be removed in a future version.\n",
            "Instructions for updating:\n",
            "Please use tf.one_hot on tensors.\n",
            "Extracting MNIST_data/t10k-images-idx3-ubyte.gz\n",
            "Extracting MNIST_data/t10k-labels-idx1-ubyte.gz\n",
            "WARNING:tensorflow:From /usr/local/lib/python3.6/dist-packages/tensorflow_core/contrib/learn/python/learn/datasets/mnist.py:290: DataSet.__init__ (from tensorflow.contrib.learn.python.learn.datasets.mnist) is deprecated and will be removed in a future version.\n",
            "Instructions for updating:\n",
            "Please use alternatives such as official/mnist/dataset.py from tensorflow/models.\n"
          ],
          "name": "stdout"
        }
      ]
    },
    {
      "cell_type": "code",
      "metadata": {
        "colab_type": "code",
        "id": "-tAA-34HKwDd",
        "colab": {
          "base_uri": "https://localhost:8080/",
          "height": 732
        },
        "outputId": "5b51b2db-b162-4012-e34e-616d6da8907b"
      },
      "source": [
        "batch_size = 100\n",
        "m_batch = mnist.train.num_examples // batch_size\n",
        "\n",
        "x = tf.placeholder(tf.float32, shape=[None, 784])\n",
        "y = tf.placeholder(tf.float32, shape=[None, 10])\n",
        "keep_prob = tf.placeholder(tf.float32)\n",
        "\n",
        "w1 = tf.Variable(tf.truncated_normal(shape=[784, 2000], stddev=0.1))\n",
        "b1 = tf.Variable(tf.zeros(shape=[2000]) + 0.1)\n",
        "layer1 = tf.nn.tanh(tf.matmul(x, w1) + b1)\n",
        "layer1_drop = tf.nn.dropout(layer1, keep_prob=keep_prob)\n",
        "\n",
        "w2 = tf.Variable(tf.truncated_normal(shape=[2000, 2000], stddev=0.1))\n",
        "b2 = tf.Variable(tf.zeros(shape=[2000]) + 0.1)\n",
        "layer2 = tf.nn.tanh(tf.matmul(layer1_drop, w2) + b2)\n",
        "layer2_drop = tf.nn.dropout(layer2, keep_prob=keep_prob)\n",
        "\n",
        "w3 = tf.Variable(tf.truncated_normal(shape=[2000, 1000], stddev=0.1))\n",
        "b3 = tf.Variable(tf.zeros(shape=[1000]) + 0.1)\n",
        "layer3 = tf.nn.tanh(tf.matmul(layer2_drop, w3) + b3)\n",
        "layer3_drop = tf.nn.dropout(layer3, keep_prob=keep_prob)\n",
        "\n",
        "w4 = tf.Variable(tf.truncated_normal(shape=[1000, 10], stddev=0.1))\n",
        "b4 = tf.Variable(tf.zeros(shape=[10]) + 0.1)\n",
        "prediction = tf.nn.softmax(tf.matmul(layer3_drop, w4) + b4)\n",
        "\n",
        "#loss = tf.reduce_mean(tf.square(y-prediction))\n",
        "loss = tf.reduce_mean(tf.nn.softmax_cross_entropy_with_logits(labels=y, logits=prediction))\n",
        "\n",
        "train = tf.train.GradientDescentOptimizer(0.2).minimize(loss)\n",
        "\n",
        "init = tf.global_variables_initializer()\n",
        "\n",
        "correct_predict = tf.equal(tf.argmax(y, axis=1), tf.argmax(prediction, axis=1))\n",
        "accuracy = tf.reduce_mean(tf.cast(correct_predict, tf.float32))\n",
        "\n",
        "with tf.Session() as sess:\n",
        "  sess.run(init)\n",
        "  for epoch in range(20):\n",
        "    for batch in range(m_batch):\n",
        "      batch_xs, batch_ys = mnist.train.next_batch(batch_size)\n",
        "      sess.run(train, feed_dict={x:batch_xs, y:batch_ys, keep_prob:0.5})\n",
        "    acc = sess.run(accuracy, feed_dict={x:mnist.test.images, y:mnist.test.labels, keep_prob:1.0})\n",
        "    print('%d epoch, test acc is %f' % (epoch, acc))\n",
        "    train_acc = sess.run(accuracy, feed_dict={x:mnist.train.images, y:mnist.train.labels, keep_prob:1.0})\n",
        "    print('%d epoch, train acc is %f' % (epoch, train_acc))"
      ],
      "execution_count": 10,
      "outputs": [
        {
          "output_type": "stream",
          "text": [
            "0 epoch, test acc is 0.890100\n",
            "0 epoch, train acc is 0.883364\n",
            "1 epoch, test acc is 0.907100\n",
            "1 epoch, train acc is 0.901145\n",
            "2 epoch, test acc is 0.915500\n",
            "2 epoch, train acc is 0.906964\n",
            "3 epoch, test acc is 0.920400\n",
            "3 epoch, train acc is 0.914527\n",
            "4 epoch, test acc is 0.925200\n",
            "4 epoch, train acc is 0.919527\n",
            "5 epoch, test acc is 0.927500\n",
            "5 epoch, train acc is 0.923000\n",
            "6 epoch, test acc is 0.928500\n",
            "6 epoch, train acc is 0.926073\n",
            "7 epoch, test acc is 0.929600\n",
            "7 epoch, train acc is 0.927473\n",
            "8 epoch, test acc is 0.931100\n",
            "8 epoch, train acc is 0.929455\n",
            "9 epoch, test acc is 0.934600\n",
            "9 epoch, train acc is 0.931182\n",
            "10 epoch, test acc is 0.935500\n",
            "10 epoch, train acc is 0.933345\n",
            "11 epoch, test acc is 0.937800\n",
            "11 epoch, train acc is 0.934800\n",
            "12 epoch, test acc is 0.935800\n",
            "12 epoch, train acc is 0.935782\n",
            "13 epoch, test acc is 0.939000\n",
            "13 epoch, train acc is 0.936600\n",
            "14 epoch, test acc is 0.938000\n",
            "14 epoch, train acc is 0.936418\n",
            "15 epoch, test acc is 0.941700\n",
            "15 epoch, train acc is 0.939436\n",
            "16 epoch, test acc is 0.940700\n",
            "16 epoch, train acc is 0.939691\n",
            "17 epoch, test acc is 0.942600\n",
            "17 epoch, train acc is 0.942018\n",
            "18 epoch, test acc is 0.943400\n",
            "18 epoch, train acc is 0.942545\n",
            "19 epoch, test acc is 0.944200\n",
            "19 epoch, train acc is 0.943945\n"
          ],
          "name": "stdout"
        }
      ]
    }
  ]
}