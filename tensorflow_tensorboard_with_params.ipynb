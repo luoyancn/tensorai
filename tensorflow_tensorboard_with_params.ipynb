{
  "nbformat": 4,
  "nbformat_minor": 0,
  "metadata": {
    "colab": {
      "name": "tensorflow_tensorboard_with_params.ipynb",
      "provenance": [],
      "collapsed_sections": []
    },
    "kernelspec": {
      "name": "python3",
      "display_name": "Python 3"
    },
    "accelerator": "GPU"
  },
  "cells": [
    {
      "cell_type": "code",
      "metadata": {
        "id": "bohVRr5RDvUe",
        "colab_type": "code",
        "colab": {}
      },
      "source": [
        "import tensorflow as tf\n",
        "import numpy as np\n",
        "\n",
        "from tensorflow.examples.tutorials.mnist import input_data\n",
        "mnist = input_data.read_data_sets('data', one_hot=True)"
      ],
      "execution_count": 0,
      "outputs": []
    },
    {
      "cell_type": "code",
      "metadata": {
        "id": "vu8cvwF6ggiE",
        "colab_type": "code",
        "colab": {}
      },
      "source": [
        "batch_size = 200\n",
        "m_batch = mnist.train.num_examples // batch_size\n",
        "\n",
        "def variable_summaries(var):\n",
        "  with tf.name_scope('summaries'):\n",
        "    mean = tf.reduce_mean(var)\n",
        "    tf.summary.scalar('mean', mean) # 平均值\n",
        "    with tf.name_scope('stddev'):\n",
        "      stddev = tf.sqrt(tf.reduce_mean(tf.square(var - mean)))\n",
        "    tf.summary.scalar('stddev', stddev) ## 标准差\n",
        "    tf.summary.scalar('max', tf.reduce_max(var)) ## 最大值\n",
        "    tf.summary.scalar('min', tf.reduce_min(var)) ## 最小值\n",
        "    tf.summary.histogram('histogram', var) ## 直方图\n",
        "\n",
        "\n",
        "with tf.name_scope('input'):\n",
        "  x = tf.placeholder(tf.float32, shape=[None, 784], name='input_x')\n",
        "  y = tf.placeholder(tf.float32, shape=[None, 10], name='input_y')\n",
        "\n",
        "with tf.name_scope('layer'):\n",
        "  with tf.name_scope('weights'):\n",
        "    w = tf.Variable(tf.zeros(shape=[784, 10]), name='weight_1')\n",
        "    variable_summaries(w)\n",
        "  with tf.name_scope('bias'):\n",
        "    b = tf.Variable(tf.zeros(shape=[10], name='bias_1'))\n",
        "    variable_summaries(w)\n",
        "  with tf.name_scope('matmul'):\n",
        "    r = tf.matmul(x, w) + b\n",
        "  with tf.name_scope('softmax'):\n",
        "    prediction = tf.nn.softmax(r)\n",
        "\n",
        "with tf.name_scope('loss'):\n",
        "  loss = tf.reduce_mean(tf.nn.softmax_cross_entropy_with_logits(\n",
        "  labels=y, logits=prediction))\n",
        "  tf.summary.scalar('loss', loss)\n",
        "\n",
        "with tf.name_scope('train'):\n",
        "  train = tf.train.GradientDescentOptimizer(0.2).minimize(loss)\n",
        "\n",
        "init = tf.global_variables_initializer()\n",
        "\n",
        "with tf.name_scope('accuracy'):\n",
        "  with tf.name_scope('correct_prediction'):\n",
        "    correct_prediction = tf.equal(tf.argmax(y, axis=1),\n",
        "                tf.argmax(prediction, axis=1))\n",
        "\n",
        "  with tf.name_scope('acc'):\n",
        "    accuracy = tf.reduce_mean(tf.cast(correct_prediction, tf.float32))\n",
        "    tf.summary.scalar('loss', accuracy)\n",
        "\n",
        "# 合并所有summary\n",
        "\n",
        "merged = tf.summary.merge_all()\n",
        "\n",
        "with tf.Session() as sess:\n",
        "  sess.run(init)\n",
        "  writer = tf.summary.FileWriter('logs/', sess.graph)\n",
        "  for epoch in range(200):\n",
        "    for batch in range(m_batch):\n",
        "      batch_xs, batch_ys = mnist.train.next_batch(batch_size)\n",
        "      _, _summary, loss_val = sess.run([train, merged, loss], feed_dict={x:batch_xs, y:batch_ys})\n",
        "    writer.add_summary(_summary, epoch)\n",
        "    acc_val = sess.run(accuracy, feed_dict={x:mnist.test.images, y:mnist.test.labels})\n",
        "    print('%d epoch, Test accuracy %f' % (epoch, acc_val))"
      ],
      "execution_count": 0,
      "outputs": []
    }
  ]
}