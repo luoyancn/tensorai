{
  "nbformat": 4,
  "nbformat_minor": 0,
  "metadata": {
    "colab": {
      "name": "tensorflow_rnn.ipynb",
      "provenance": [],
      "collapsed_sections": []
    },
    "kernelspec": {
      "name": "python3",
      "display_name": "Python 3"
    },
    "accelerator": "GPU"
  },
  "cells": [
    {
      "cell_type": "code",
      "metadata": {
        "id": "gqQJKQJHhdVK",
        "colab_type": "code",
        "colab": {}
      },
      "source": [
        "# RNN也可以用在图片领域\n",
        "\n",
        "import tensorflow as tf\n",
        "from tensorflow.examples.tutorials.mnist import input_data\n",
        "\n",
        "\n",
        "mnist = input_data.read_data_sets('datasets', one_hot=True)"
      ],
      "execution_count": 0,
      "outputs": []
    },
    {
      "cell_type": "code",
      "metadata": {
        "id": "whMP54rg2otC",
        "colab_type": "code",
        "colab": {}
      },
      "source": [
        "m_input = 28 # 输入1行，每行28个元素\n",
        "max_line = 28 # 总共28行\n",
        "\n",
        "lstm_size = 100 # 隐藏单元\n",
        "m_classes = 10 # 10个分类\n",
        "batch_size = 50\n",
        "m_batch = mnist.train.num_examples//batch_size"
      ],
      "execution_count": 0,
      "outputs": []
    },
    {
      "cell_type": "code",
      "metadata": {
        "id": "5g-gUR763D2S",
        "colab_type": "code",
        "colab": {}
      },
      "source": [
        "x = tf.placeholder(tf.float32, [None, 784])\n",
        "y = tf.placeholder(tf.float32, [None, 10])\n",
        "\n",
        "weights = tf.Variable(tf.truncated_normal([lstm_size, m_classes], stddev=0.1))\n",
        "biases = tf.Variable(tf.constant(0.1, shape=[m_classes]))\n",
        "\n",
        "\n",
        "def RNN(x, weights, biases):\n",
        "    inputs = tf.reshape(x, [-1, max_line, m_input])\n",
        "    # 基本的lstm cell\n",
        "    lstm_cell = tf.contrib.rnn.BasicLSTMCell(lstm_size)\n",
        "    # final_state[0]为cell state，final_state[1]为hidden state\n",
        "    outputs, final_state = tf.nn.dynamic_rnn(lstm_cell, inputs, dtype=tf.float32)\n",
        "    #results = tf.nn.softmax(tf.matmul(final_state[1], weights) + biases)\n",
        "    results = tf.matmul(final_state[1], weights) + biases\n",
        "    return results\n",
        "\n",
        "\n",
        "prediction = RNN(x, weights, biases)\n",
        "cross_entropy = tf.reduce_mean(tf.nn.softmax_cross_entropy_with_logits(logits=prediction, labels=y))\n",
        "train = tf.train.AdamOptimizer(1e-4).minimize(cross_entropy)\n",
        "\n",
        "correct_prediction = tf.equal(tf.argmax(y, 1), tf.argmax(prediction, 1))\n",
        "accuracy = tf.reduce_mean(tf.cast(correct_prediction, tf.float32))"
      ],
      "execution_count": 0,
      "outputs": []
    },
    {
      "cell_type": "code",
      "metadata": {
        "id": "rOozuywJ8wGC",
        "colab_type": "code",
        "colab": {
          "base_uri": "https://localhost:8080/",
          "height": 125
        },
        "outputId": "07c4e2bd-3220-4522-c423-234db613f615"
      },
      "source": [
        "init = tf.global_variables_initializer()\n",
        "\n",
        "with tf.Session() as sess:\n",
        "    sess.run(init)\n",
        "    for epoch in range(6):\n",
        "        for batch in range(m_batch):\n",
        "            batch_xs, batch_ys = mnist.train.next_batch(batch_size)\n",
        "            sess.run(train, feed_dict={x:batch_xs, y:batch_ys})\n",
        "        acc = sess.run(accuracy, feed_dict={x:mnist.test.images, y:mnist.test.labels})\n",
        "        print('Epoch %d , Test Accuracy is %f' % (epoch, acc))"
      ],
      "execution_count": 4,
      "outputs": [
        {
          "output_type": "stream",
          "text": [
            "Epoch 0 , Test Accuracy is 0.834600\n",
            "Epoch 1 , Test Accuracy is 0.898200\n",
            "Epoch 2 , Test Accuracy is 0.919600\n",
            "Epoch 3 , Test Accuracy is 0.934600\n",
            "Epoch 4 , Test Accuracy is 0.929800\n",
            "Epoch 5 , Test Accuracy is 0.943000\n"
          ],
          "name": "stdout"
        }
      ]
    }
  ]
}