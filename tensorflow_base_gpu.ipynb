{
  "nbformat": 4,
  "nbformat_minor": 0,
  "metadata": {
    "colab": {
      "name": "tensorflow_gpu.ipynb",
      "provenance": [],
      "collapsed_sections": []
    },
    "kernelspec": {
      "name": "python3",
      "display_name": "Python 3"
    },
    "accelerator": "GPU"
  },
  "cells": [
    {
      "cell_type": "code",
      "metadata": {
        "id": "qCQoKmRw4f5B",
        "colab_type": "code",
        "outputId": "4abbb588-01f3-442c-f606-5ea5f5efc95b",
        "colab": {
          "base_uri": "https://localhost:8080/",
          "height": 386
        }
      },
      "source": [
        "import tensorflow as tf\n",
        "import numpy\n",
        "print(tf.__version__)\n",
        "!nvidia-smi"
      ],
      "execution_count": 3,
      "outputs": [
        {
          "output_type": "display_data",
          "data": {
            "text/html": [
              "<p style=\"color: red;\">\n",
              "The default version of TensorFlow in Colab will soon switch to TensorFlow 2.x.<br>\n",
              "We recommend you <a href=\"https://www.tensorflow.org/guide/migrate\" target=\"_blank\">upgrade</a> now \n",
              "or ensure your notebook will continue to use TensorFlow 1.x via the <code>%tensorflow_version 1.x</code> magic:\n",
              "<a href=\"https://colab.research.google.com/notebooks/tensorflow_version.ipynb\" target=\"_blank\">more info</a>.</p>\n"
            ],
            "text/plain": [
              "<IPython.core.display.HTML object>"
            ]
          },
          "metadata": {
            "tags": []
          }
        },
        {
          "output_type": "stream",
          "text": [
            "1.15.0\n",
            "Tue Nov  5 02:48:19 2019       \n",
            "+-----------------------------------------------------------------------------+\n",
            "| NVIDIA-SMI 430.50       Driver Version: 418.67       CUDA Version: 10.1     |\n",
            "|-------------------------------+----------------------+----------------------+\n",
            "| GPU  Name        Persistence-M| Bus-Id        Disp.A | Volatile Uncorr. ECC |\n",
            "| Fan  Temp  Perf  Pwr:Usage/Cap|         Memory-Usage | GPU-Util  Compute M. |\n",
            "|===============================+======================+======================|\n",
            "|   0  Tesla K80           Off  | 00000000:00:04.0 Off |                    0 |\n",
            "| N/A   36C    P8    26W / 149W |      0MiB / 11441MiB |      0%      Default |\n",
            "+-------------------------------+----------------------+----------------------+\n",
            "                                                                               \n",
            "+-----------------------------------------------------------------------------+\n",
            "| Processes:                                                       GPU Memory |\n",
            "|  GPU       PID   Type   Process name                             Usage      |\n",
            "|=============================================================================|\n",
            "|  No running processes found                                                 |\n",
            "+-----------------------------------------------------------------------------+\n"
          ],
          "name": "stdout"
        }
      ]
    },
    {
      "cell_type": "code",
      "metadata": {
        "id": "JJjml9Ydbd_v",
        "colab_type": "code",
        "colab": {
          "base_uri": "https://localhost:8080/",
          "height": 35
        },
        "outputId": "adb7004d-30f2-4b0a-c704-879839934c7a"
      },
      "source": [
        "m1 = tf.constant([[3, 4]])\n",
        "m2 = tf.constant([[4], [7]])\n",
        "result = tf.matmul(m1, m2)\n",
        "print(result)"
      ],
      "execution_count": 4,
      "outputs": [
        {
          "output_type": "stream",
          "text": [
            "Tensor(\"MatMul:0\", shape=(1, 1), dtype=int32)\n"
          ],
          "name": "stdout"
        }
      ]
    },
    {
      "cell_type": "code",
      "metadata": {
        "id": "ZgSQC7WZd9-h",
        "colab_type": "code",
        "colab": {
          "base_uri": "https://localhost:8080/",
          "height": 35
        },
        "outputId": "59175dca-4755-4f70-86db-1d5c2442b8a2"
      },
      "source": [
        "with tf.Session() as sess:\n",
        "  res = sess.run(result)\n",
        "print(res)"
      ],
      "execution_count": 6,
      "outputs": [
        {
          "output_type": "stream",
          "text": [
            "[[40]]\n"
          ],
          "name": "stdout"
        }
      ]
    },
    {
      "cell_type": "code",
      "metadata": {
        "id": "0imRA2c0e14b",
        "colab_type": "code",
        "colab": {
          "base_uri": "https://localhost:8080/",
          "height": 53
        },
        "outputId": "dabac13b-a2da-46ba-f7d4-7e732408f35f"
      },
      "source": [
        "# Tensorflow的变量\n",
        "\n",
        "x = tf.Variable([1, 2])\n",
        "c = tf.constant([3, 3])\n",
        "\n",
        "# 减法操作\n",
        "sub = tf.subtract(x, c)\n",
        "add = tf.add(x, c)\n",
        "\n",
        "with tf.Session() as sess:\n",
        "  init = tf.global_variables_initializer()\n",
        "  sess.run(init)\n",
        "  _sub = sess.run(sub)\n",
        "  _add = sess.run(add)\n",
        "\n",
        "print(_sub)\n",
        "print(_add)"
      ],
      "execution_count": 12,
      "outputs": [
        {
          "output_type": "stream",
          "text": [
            "[-2 -1]\n",
            "[4 5]\n"
          ],
          "name": "stdout"
        }
      ]
    },
    {
      "cell_type": "code",
      "metadata": {
        "id": "iZLkIlY7gNbP",
        "colab_type": "code",
        "colab": {
          "base_uri": "https://localhost:8080/",
          "height": 106
        },
        "outputId": "d68f4a6e-5cab-4ced-bc43-7bbde0d54584"
      },
      "source": [
        "\n",
        "# 创建一个变量，初始化为0\n",
        "state = tf.Variable(0, name='counter')\n",
        "nv = tf.add(state, 1)\n",
        "# 赋值操作，将nv的值赋予state\n",
        "update = tf.assign(state, nv)\n",
        "init = tf.global_variables_initializer()\n",
        "\n",
        "with tf.Session() as sess:\n",
        "  sess.run(init)\n",
        "  sess.run(state)\n",
        "  for _ in range(5):\n",
        "    sess.run(update)\n",
        "    print(sess.run(state))"
      ],
      "execution_count": 14,
      "outputs": [
        {
          "output_type": "stream",
          "text": [
            "1\n",
            "2\n",
            "3\n",
            "4\n",
            "5\n"
          ],
          "name": "stdout"
        }
      ]
    },
    {
      "cell_type": "code",
      "metadata": {
        "id": "vYKcQY35iG--",
        "colab_type": "code",
        "colab": {
          "base_uri": "https://localhost:8080/",
          "height": 35
        },
        "outputId": "df0e831b-094a-49b8-f522-01f25306f0a7"
      },
      "source": [
        "# fech_and_feed\n",
        "\n",
        "input1 = tf.constant(3.0)\n",
        "input2 = tf.constant(2.0)\n",
        "input3 = tf.constant(5.0)\n",
        "\n",
        "add = tf.add(input2, input3)\n",
        "mul = tf.multiply(input1, add)\n",
        "\n",
        "with tf.Session() as sess:\n",
        "  res = sess.run([mul, add])\n",
        "  print(res)"
      ],
      "execution_count": 15,
      "outputs": [
        {
          "output_type": "stream",
          "text": [
            "[21.0, 7.0]\n"
          ],
          "name": "stdout"
        }
      ]
    },
    {
      "cell_type": "code",
      "metadata": {
        "id": "OEPUr6eZinu5",
        "colab_type": "code",
        "colab": {
          "base_uri": "https://localhost:8080/",
          "height": 53
        },
        "outputId": "7189c451-9ec3-4a7d-e54d-7bb6c2ef887c"
      },
      "source": [
        "_input1 = tf.placeholder(tf.float32)\n",
        "_input2 = tf.placeholder(tf.float32)\n",
        "output = tf.multiply(_input1, _input2)\n",
        "\n",
        "with tf.Session() as sess:\n",
        "  res = sess.run(output, feed_dict={_input1: .8, _input2: 2.0})\n",
        "  print(res)\n",
        "  res = sess.run(output, feed_dict={_input1: [.8,0.9], _input2: [2.0,0.8]})\n",
        "  print(res)"
      ],
      "execution_count": 19,
      "outputs": [
        {
          "output_type": "stream",
          "text": [
            "1.6\n",
            "[1.6        0.71999997]\n"
          ],
          "name": "stdout"
        }
      ]
    },
    {
      "cell_type": "code",
      "metadata": {
        "id": "ymO_VIGkjjc-",
        "colab_type": "code",
        "colab": {
          "base_uri": "https://localhost:8080/",
          "height": 196
        },
        "outputId": "cc621072-b3de-4e22-8d2e-80bd5f1e52d1"
      },
      "source": [
        "# 构造数据\n",
        "x_data = numpy.random.rand(100)\n",
        "y_data = x_data * 0.1 + 0.2\n",
        "\n",
        "# 构造线性模型\n",
        "b = tf.Variable(0.0)\n",
        "k = tf.Variable(0.0)\n",
        "y = k * x_data + b\n",
        "\n",
        "# 构造损失函数\n",
        "loss = tf.reduce_mean(tf.square(y_data - y))\n",
        "# 使用梯度下降优化算法\n",
        "optimizer = tf.train.GradientDescentOptimizer(0.2)\n",
        "\n",
        "# 最小化loss，即训练\n",
        "train = optimizer.minimize(loss)\n",
        "\n",
        "init = tf.global_variables_initializer()\n",
        "\n",
        "# 训练的本质就是求取方程的解\n",
        "with tf.Session() as sess:\n",
        "  sess.run(init)\n",
        "  for step in range(200):\n",
        "    sess.run(train)\n",
        "    if step %20 == 0:\n",
        "      print(sess.run([k, b]))"
      ],
      "execution_count": 20,
      "outputs": [
        {
          "output_type": "stream",
          "text": [
            "[0.05676381, 0.1012787]\n",
            "[0.10599134, 0.19662535]\n",
            "[0.10382308, 0.19784667]\n",
            "[0.1024395, 0.19862597]\n",
            "[0.10155665, 0.19912323]\n",
            "[0.100993276, 0.19944054]\n",
            "[0.100633815, 0.199643]\n",
            "[0.10040445, 0.1997722]\n",
            "[0.10025807, 0.19985464]\n",
            "[0.10016468, 0.19990724]\n"
          ],
          "name": "stdout"
        }
      ]
    },
    {
      "cell_type": "code",
      "metadata": {
        "id": "t-e4F_93ldbI",
        "colab_type": "code",
        "colab": {
          "base_uri": "https://localhost:8080/",
          "height": 301
        },
        "outputId": "cb74fab8-a532-4a3d-9d9f-bebc3a1e0fec"
      },
      "source": [
        "import matplotlib.pyplot as plt\n",
        "\n",
        "# 生成200数据的数组\n",
        "x_data = numpy.linspace(-0.5, 0.5, 200)\n",
        "print(x_data.shape)\n",
        "# numpy.newaxis表示None，表示将x_data从数组转换成一个n*1的矩阵\n",
        "x_data = x_data[:, numpy.newaxis]\n",
        "print(x_data.shape)\n",
        "# 也可以采用reshape\n",
        "# print(x_data.reshape(-1, 1).shape)\n",
        "\n",
        "# 生成正态分布的随机值，分布于-0.02~0.02之间，数量为x_data.shape的大小\n",
        "noise = numpy.random.normal(0, 0.02, x_data.shape)\n",
        "\n",
        "y_data = numpy.square(x_data) + noise\n",
        "\n",
        "# 构造方程式(神经网络)\n",
        "\n",
        "x = tf.placeholder(tf.float32, shape=[None, 1], name='input_x')\n",
        "y = tf.placeholder(tf.float32, shape=[None, 1], name='output_y')\n",
        "\n",
        "w1 = tf.Variable(tf.random.normal(shape=[1, 10]), name='w1')\n",
        "b1 = tf.Variable(tf.zeros(shape=[1, 10]), name='b1')\n",
        "\n",
        "layer1 = tf.matmul(x, w1) + b1\n",
        "layer1 = tf.nn.tanh(layer1)\n",
        "\n",
        "w2 = tf.Variable(tf.random_normal(shape=[10, 1]), name='w2')\n",
        "b2 = tf.Variable(tf.zeros(shape=[1, 1]), name='b2')\n",
        "\n",
        "layer2 = tf.matmul(layer1, w2) + b2\n",
        "\n",
        "prediction = tf.nn.tanh(layer2)\n",
        "\n",
        "loss = tf.reduce_mean(tf.square(y - prediction))\n",
        "\n",
        "train = tf.train.GradientDescentOptimizer(0.1).minimize(loss)\n",
        "\n",
        "with tf.Session() as sess:\n",
        "  sess.run(tf.global_variables_initializer())\n",
        "  for _ in range(2000):\n",
        "    sess.run(train, feed_dict={x:x_data, y:y_data})\n",
        "  predict_val = sess.run(prediction, feed_dict={x: x_data})\n",
        "  plt.figure()\n",
        "  plt.scatter(x_data, y_data)\n",
        "  plt.plot(x_data, predict_val, 'r-', lw=5)\n",
        "  plt.show()"
      ],
      "execution_count": 34,
      "outputs": [
        {
          "output_type": "stream",
          "text": [
            "(200,)\n",
            "(200, 1)\n"
          ],
          "name": "stdout"
        },
        {
          "output_type": "display_data",
          "data": {
            "image/png": "[encoded data removed]",
            "text/plain": [
              "<Figure size 432x288 with 1 Axes>"
            ]
          },
          "metadata": {
            "tags": []
          }
        }
      ]
    },
    {
      "cell_type": "code",
      "metadata": {
        "id": "E8mdIvsIDcNr",
        "colab_type": "code",
        "colab": {}
      },
      "source": [
        ""
      ],
      "execution_count": 0,
      "outputs": []
    }
  ]
}